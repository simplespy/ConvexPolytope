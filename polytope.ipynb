{
 "cells": [
  {
   "cell_type": "code",
   "execution_count": 1,
   "metadata": {
    "collapsed": true
   },
   "outputs": [],
   "source": [
    "import torch\n",
    "import torch.nn as nn\n",
    "from torch.autograd import Variable\n",
    "from convex_adversarial import DualNetBounds\n",
    "import numpy as np\n",
    "from utils import *\n",
    "import matplotlib.pyplot as plt\n",
    "from scipy.optimize import linprog\n",
    "import random\n",
    "np.random.seed(1)\n",
    "torch.manual_seed(23)\n",
    "epsilon = 0.5\n",
    "h = [2,3,2]\n",
    "relaxation_dict = dict()"
   ]
  },
  {
   "cell_type": "code",
   "execution_count": 2,
   "metadata": {},
   "outputs": [
    {
     "name": "stdout",
     "output_type": "stream",
     "text": [
      "Sequential(\n",
      "  (0): Linear(in_features=2, out_features=3)\n",
      "  (1): ReLU()\n",
      "  (2): Linear(in_features=3, out_features=2)\n",
      ")\n"
     ]
    }
   ],
   "source": [
    "def make_layers(h):\n",
    "    layers = []\n",
    "    for i in range(1, len(h)):\n",
    "        layers += [nn.Linear(h[i-1], h[i])]\n",
    "        if i != len(h)-1: layers += [nn.ReLU()]\n",
    "    return nn.Sequential(*layers)\n",
    "net = make_layers(h)\n",
    "print net"
   ]
  },
  {
   "cell_type": "code",
   "execution_count": 3,
   "metadata": {},
   "outputs": [
    {
     "name": "stdout",
     "output_type": "stream",
     "text": [
      "['z_1_1', 'z_1_2', 'z^_2_1', 'z^_2_2', 'z^_2_3', 'z_2_1', 'z_2_2', 'z_2_3', 'z^_3_1', 'z^_3_2']\n"
     ]
    }
   ],
   "source": [
    "def create_variables(net, h):\n",
    "    names = []\n",
    "    for k, h_dim in enumerate(h):\n",
    "        t1 = ['z^'+'_'+str(k+1)+'_'+str(i) for i in range(1, 1+h_dim)]\n",
    "        t2 = ['z'+'_'+str(k+1)+'_'+str(i) for i in range(1, 1+h_dim)]\n",
    "        if k != 0: names.extend(t1)\n",
    "        if k != len(h)-1: names.extend(t2)\n",
    "    print names\n",
    "    return names\n",
    "vname = create_variables(net, h)"
   ]
  },
  {
   "cell_type": "code",
   "execution_count": 4,
   "metadata": {
    "collapsed": true
   },
   "outputs": [],
   "source": [
    "def draw_adv(net, X):\n",
    "    output = net(Variable(X))\n",
    "    OX = X.clone()\n",
    "    k=30\n",
    "    z_hat = []\n",
    "    for i in range(-k, k+1):\n",
    "        dx = float(i) / k * epsilon\n",
    "        for j in range(-k, k+1):\n",
    "            dy = float(j) / k * epsilon\n",
    "            X[:, 0] = OX[:, 0] + dx\n",
    "            X[:, 1] = OX[:, 1] + dy\n",
    "            z_hat.append(net(Variable(X)).data.numpy())\n",
    "        \n",
    "    z_hat = np.vstack(z_hat)    \n",
    "    plt.plot(output.data.numpy()[:,0], output.data.numpy()[:,1], 'ro')\n",
    "    plt.scatter(z_hat[:,0], z_hat[:,1], cmap=\"coolwarm\", s=10)\n",
    "\n",
    "\n",
    "x = [(0.417022  ,  0.72032449)]\n",
    "X = torch.Tensor(np.array(x))\n",
    "draw_adv(net, X)\n",
    "#plt.show()"
   ]
  },
  {
   "cell_type": "code",
   "execution_count": 5,
   "metadata": {
    "collapsed": true
   },
   "outputs": [],
   "source": [
    "def vname2index(vname, i, j, hat=False, return_vname = False):\n",
    "    if hat: s = 'z^_'+str(i)+'_'+str(j)\n",
    "    else: s = 'z_'+str(i)+'_'+str(j)\n",
    "    if return_vname: return s\n",
    "    return vname.index(s)"
   ]
  },
  {
   "cell_type": "code",
   "execution_count": 6,
   "metadata": {
    "collapsed": true
   },
   "outputs": [],
   "source": [
    "#given network, transform it to linear constraints\n",
    "def make_constraints(net, vname, h, x):\n",
    "    x1, x2 = x[0][0], x[0][1]\n",
    "    X = torch.Tensor(np.array(x))\n",
    "    dual = DualNetBounds(net, Variable(X), epsilon)\n",
    "\n",
    "    lts, ltb, eqs, eqb = [], [], [], []\n",
    "    W = [p.data.numpy() for i, p in enumerate(net.parameters()) if i%2 == 0]\n",
    "    b = [p.data.numpy() for i, p in enumerate(net.parameters()) if i%2 == 1]\n",
    "    #affine layer: equations\n",
    "    for i in range(1, len(h)):\n",
    "        for j in range(1, h[i]+1):\n",
    "            eqs_ = [0]*len(vname)\n",
    "            x = vname2index(vname, i+1, j, True)\n",
    "            eqs_[x] = -1\n",
    "            for k in range(h[i-1]):\n",
    "                y = vname2index(vname, i, k+1, False)\n",
    "                eqs_[y] = W[i-1][j-1][k]\n",
    "            eqb_ = -b[i-1][j-1]\n",
    "\n",
    "            eqs.append(eqs_)\n",
    "            eqb.append(eqb_)\n",
    "\n",
    "    #relu layer: three types\n",
    "    for i in range(1, len(h)-1):\n",
    "        upper = dual.zu[i-1].data.numpy()\n",
    "        lower = dual.zl[i-1].data.numpy()\n",
    "        for j in range(1, h[i]+1):\n",
    "            eqs_ = [0]*len(vname)\n",
    "            hat_index = vname2index(vname, i+1, j, True)\n",
    "            no_hat_id = vname2index(vname, i+1, j, False)\n",
    "            if upper[j-1] <= 0:\n",
    "                eqs_[no_hat_id] = 1\n",
    "            elif lower[j-1] >= 0:\n",
    "                eqs_[no_hat_id] = 1\n",
    "                eqs_[hat_index] = -1\n",
    "            else:\n",
    "                lts_1, lts_2, lts_3 = [0]*len(vname), [0]*len(vname), [0]*len(vname)\n",
    "                lts_1[no_hat_id] = -1\n",
    "                lts_2[no_hat_id], lts_2[hat_index] = -1, 1\n",
    "                lts_3[no_hat_id], lts_3[hat_index] = upper[j-1]-lower[j-1], -upper[j-1]\n",
    "                lts += [lts_1, lts_2, lts_3]\n",
    "                ltb += [0, 0, -upper[j-1]*lower[j-1]]\n",
    "                relaxation_dict[(i+1,j)] = vname2index(vname, i+1, j, return_vname=True)\n",
    "                continue\n",
    "\n",
    "            eqs.append(eqs_)\n",
    "            eqb.append(0)\n",
    "    \n",
    "    z11_bnd = (x1-epsilon, x1+epsilon)\n",
    "    z12_bnd = (x2-epsilon, x2+epsilon)\n",
    "    ubnd = (-np.inf, np.inf)\n",
    "    bounds = [z11_bnd, z12_bnd]\n",
    "    bounds += [ubnd]*(len(vname)-2)\n",
    "    \n",
    "    return lts, ltb, eqs, eqb, bounds\n",
    "\n",
    "lts, ltb, eqs, eqb, bounds = make_constraints(net, vname, h, x)"
   ]
  },
  {
   "cell_type": "code",
   "execution_count": 7,
   "metadata": {
    "collapsed": true
   },
   "outputs": [],
   "source": [
    "def draw_outer(lts, ltb, eqs, eqb, bounds, color = 'r'):\n",
    "    vnum = len(vname)\n",
    "    pool = []\n",
    "    su = 10\n",
    "    for i in range(0,su*vnum):\n",
    "        k = i / su\n",
    "        c =  [0]*k + random.sample(xrange(-100, 100), vnum-k)\n",
    "        res = linprog(c, lts, ltb, eqs, eqb, \n",
    "            bounds=bounds,\n",
    "            options={'disp': False, 'bland': False, 'tol': 1e-12, 'maxiter': 1000})\n",
    "        pool.append(tuple(res.x[-2:]))\n",
    "    pool = set(pool)\n",
    "    drawGraphandOuter(pool,color)\n",
    "\n",
    "draw_outer(lts, ltb, eqs, eqb, bounds)\n",
    "#plt.show()"
   ]
  },
  {
   "cell_type": "code",
   "execution_count": 8,
   "metadata": {},
   "outputs": [
    {
     "name": "stdout",
     "output_type": "stream",
     "text": [
      "Vertices Set That You Can Split: ['z_2_3']\n"
     ]
    },
    {
     "data": {
      "image/png": "[encoded data removed]",
      "text/plain": [
       "<matplotlib.figure.Figure at 0x10e0d72d0>"
      ]
     },
     "metadata": {},
     "output_type": "display_data"
    }
   ],
   "source": [
    "def split(split_vertex, eqs, eqb, bnd):\n",
    "    if not relaxation_dict.has_key(split_vertex): \n",
    "        print 'Error: Please choose a vertex can be split!'\n",
    "        exit(1)\n",
    "    print 'Vertices Set That You Can Split:', relaxation_dict.values()\n",
    "\n",
    "    eqs_1, eqs_2, eqb_1, eqb_2, bnd_1, bnd_2 = list(eqs), list(eqs), list(eqb), list(eqb), list(bnd), list(bnd)\n",
    "    # 1. >=0\n",
    "    eqs_1_, eqs_2_ = [0]*len(vname), [0]*len(vname)\n",
    "    hat_index = vname2index(vname, split_vertex[0], split_vertex[1], True)\n",
    "    no_hat_id = vname2index(vname, split_vertex[0], split_vertex[1], False)\n",
    "    eqs_1_[no_hat_id] = 1\n",
    "    eqs_1_[hat_index] = -1\n",
    "    eqs_1.append(eqs_1_), eqb_1.append(0)\n",
    "    bnd_1[hat_index] = (0, np.inf)\n",
    "    # 2. < 0\n",
    "    eqs_2_[no_hat_id] = 1\n",
    "    eqs_2.append(eqs_2_), eqb_2.append(0)\n",
    "    bnd_2[hat_index] = (-np.inf, 0)\n",
    "\n",
    "    return (eqs_1, eqb_1, bnd_1), (eqs_2, eqb_2, bnd_2)\n",
    "\n",
    "r1, r2 = split((2,3), eqs, eqb, bounds)\n",
    "eqs_1, eqb_1, bnd_1 = r1\n",
    "eqs_2, eqb_2, bnd_2 = r2\n",
    "draw_outer(lts, ltb, eqs_1, eqb_1, bnd_1, 'g')\n",
    "draw_outer(lts, ltb, eqs_2, eqb_2, bnd_2, 'b')\n",
    "plt.show()"
   ]
  },
  {
   "cell_type": "code",
   "execution_count": 9,
   "metadata": {},
   "outputs": [
    {
     "name": "stdout",
     "output_type": "stream",
     "text": [
      "Sequential(\n",
      "  (0): Linear(in_features=2, out_features=5)\n",
      "  (1): ReLU()\n",
      "  (2): Linear(in_features=5, out_features=2)\n",
      ")\n",
      "['z_1_1', 'z_1_2', 'z^_2_1', 'z^_2_2', 'z^_2_3', 'z^_2_4', 'z^_2_5', 'z_2_1', 'z_2_2', 'z_2_3', 'z_2_4', 'z_2_5', 'z^_3_1', 'z^_3_2']\n"
     ]
    }
   ],
   "source": [
    "np.random.seed(1)\n",
    "torch.manual_seed(231)\n",
    "epsilon = 0.5\n",
    "h = [2,5,2]\n",
    "relaxation_dict = dict()\n",
    "\n",
    "net = make_layers(h)\n",
    "print net\n",
    "\n",
    "vname = create_variables(net, h)"
   ]
  },
  {
   "cell_type": "code",
   "execution_count": 10,
   "metadata": {
    "collapsed": true
   },
   "outputs": [],
   "source": [
    "x = [(0.417022  ,  0.72032449)]\n",
    "X = torch.Tensor(np.array(x))\n",
    "draw_adv(net, X)\n",
    "lts, ltb, eqs, eqb, bounds = make_constraints(net, vname, h, x)\n",
    "draw_outer(lts, ltb, eqs, eqb, bounds)\n",
    "\n",
    "#plt.show()"
   ]
  },
  {
   "cell_type": "code",
   "execution_count": 11,
   "metadata": {},
   "outputs": [
    {
     "name": "stdout",
     "output_type": "stream",
     "text": [
      "Vertices Set That You Can Split: ['z_2_4', 'z_2_2']\n"
     ]
    },
    {
     "data": {
      "image/png": "[encoded data removed]",
      "text/plain": [
       "<matplotlib.figure.Figure at 0x10bfe5f90>"
      ]
     },
     "metadata": {},
     "output_type": "display_data"
    }
   ],
   "source": [
    "\n",
    "r1, r2 = split((2,2), eqs, eqb, bounds)\n",
    "eqs_1, eqb_1, bnd_1 = r1\n",
    "eqs_2, eqb_2, bnd_2 = r2\n",
    "draw_outer(lts, ltb, eqs_1, eqb_1, bnd_1, 'g')\n",
    "draw_outer(lts, ltb, eqs_2, eqb_2, bnd_2, 'b')\n",
    "plt.show()"
   ]
  },
  {
   "cell_type": "code",
   "execution_count": null,
   "metadata": {
    "collapsed": true
   },
   "outputs": [],
   "source": []
  }
 ],
 "metadata": {
  "kernelspec": {
   "display_name": "Python 2",
   "language": "python",
   "name": "python2"
  },
  "language_info": {
   "codemirror_mode": {
    "name": "ipython",
    "version": 2
   },
   "file_extension": ".py",
   "mimetype": "text/x-python",
   "name": "python",
   "nbconvert_exporter": "python",
   "pygments_lexer": "ipython2",
   "version": "2.7.14"
  }
 },
 "nbformat": 4,
 "nbformat_minor": 2
}
