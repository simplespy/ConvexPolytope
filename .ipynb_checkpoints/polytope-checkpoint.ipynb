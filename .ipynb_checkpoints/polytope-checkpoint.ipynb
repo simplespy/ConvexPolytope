{
 "cells": [
  {
   "cell_type": "code",
   "execution_count": 1,
   "metadata": {
    "collapsed": true
   },
   "outputs": [],
   "source": [
    "import torch\n",
    "import torch.nn as nn\n",
    "import torch.optim as optim\n",
    "from torch.autograd import Variable\n",
    "from torchvision import datasets, transforms\n",
    "\n",
    "import matplotlib.pyplot as plt\n",
    "import seaborn\n",
    "import matplotlib.patches as patches\n",
    "from scipy.spatial import HalfspaceIntersection\n",
    "from convex_adversarial import DualNetBounds, robust_loss\n",
    "%matplotlib inline\n",
    "seaborn.set(font_scale=2)\n",
    "seaborn.set_style(\"white\")\n",
    "\n",
    "import numpy as np\n",
    "from utils import *\n",
    "np.random.seed(1)\n",
    "torch.manual_seed(1)\n",
    "\n",
    "fixed = True\n",
    "epsilon = 0.05"
   ]
  },
  {
   "cell_type": "code",
   "execution_count": 2,
   "metadata": {
    "collapsed": true
   },
   "outputs": [],
   "source": [
    "net = nn.Sequential(\n",
    "    nn.Linear(2,100),\n",
    "    nn.ReLU(),\n",
    "    nn.Linear(100,100),\n",
    "    nn.ReLU(),\n",
    "    nn.Linear(100,100),\n",
    "    nn.ReLU(),\n",
    "    nn.Linear(100,100),\n",
    "    nn.ReLU(),\n",
    "    nn.Linear(100,2)\n",
    ")\n",
    "if fixed:\n",
    "    x = [(0.417022  ,  0.72032449)]\n",
    "    net.load_state_dict(torch.load('random_net.pth'))\n",
    "else: \n",
    "    x = [np.random.uniform(size=(2))]\n",
    "    print x\n",
    "    torch.save(net.state_dict(), 'random_net.pth')\n",
    "\n",
    "\n",
    "X = torch.Tensor(np.array(x))\n",
    "z0 = net(Variable(X))\n",
    "\n",
    "\n",
    "OX = X.clone()"
   ]
  },
  {
   "cell_type": "code",
   "execution_count": 3,
   "metadata": {},
   "outputs": [
    {
     "ename": "NameError",
     "evalue": "name 'r' is not defined",
     "output_type": "error",
     "traceback": [
      "\u001b[0;31m---------------------------------------------------------------------------\u001b[0m",
      "\u001b[0;31mNameError\u001b[0m                                 Traceback (most recent call last)",
      "\u001b[0;32m<ipython-input-3-b3bee15cb860>\u001b[0m in \u001b[0;36m<module>\u001b[0;34m()\u001b[0m\n\u001b[1;32m      5\u001b[0m \u001b[0;32mwhile\u001b[0m\u001b[0;34m(\u001b[0m\u001b[0mlen\u001b[0m\u001b[0;34m(\u001b[0m\u001b[0mxx\u001b[0m\u001b[0;34m)\u001b[0m \u001b[0;34m<\u001b[0m \u001b[0mmm\u001b[0m\u001b[0;34m)\u001b[0m\u001b[0;34m:\u001b[0m\u001b[0;34m\u001b[0m\u001b[0m\n\u001b[1;32m      6\u001b[0m     \u001b[0mp\u001b[0m \u001b[0;34m=\u001b[0m \u001b[0mnp\u001b[0m\u001b[0;34m.\u001b[0m\u001b[0mrandom\u001b[0m\u001b[0;34m.\u001b[0m\u001b[0muniform\u001b[0m\u001b[0;34m(\u001b[0m\u001b[0msize\u001b[0m\u001b[0;34m=\u001b[0m\u001b[0;34m(\u001b[0m\u001b[0;36m2\u001b[0m\u001b[0;34m)\u001b[0m\u001b[0;34m)\u001b[0m\u001b[0;34m\u001b[0m\u001b[0m\n\u001b[0;32m----> 7\u001b[0;31m     \u001b[0;32mif\u001b[0m \u001b[0mmin\u001b[0m\u001b[0;34m(\u001b[0m\u001b[0mnp\u001b[0m\u001b[0;34m.\u001b[0m\u001b[0mabs\u001b[0m\u001b[0;34m(\u001b[0m\u001b[0mp\u001b[0m\u001b[0;34m-\u001b[0m\u001b[0ma\u001b[0m\u001b[0;34m)\u001b[0m\u001b[0;34m.\u001b[0m\u001b[0msum\u001b[0m\u001b[0;34m(\u001b[0m\u001b[0;34m)\u001b[0m \u001b[0;32mfor\u001b[0m \u001b[0ma\u001b[0m \u001b[0;32min\u001b[0m \u001b[0mx\u001b[0m\u001b[0;34m)\u001b[0m \u001b[0;34m>\u001b[0m \u001b[0;36m2\u001b[0m\u001b[0;34m*\u001b[0m\u001b[0mr\u001b[0m\u001b[0;34m:\u001b[0m\u001b[0;34m\u001b[0m\u001b[0m\n\u001b[0m\u001b[1;32m      8\u001b[0m         \u001b[0mxx\u001b[0m\u001b[0;34m.\u001b[0m\u001b[0mappend\u001b[0m\u001b[0;34m(\u001b[0m\u001b[0mp\u001b[0m\u001b[0;34m)\u001b[0m\u001b[0;34m\u001b[0m\u001b[0m\n\u001b[1;32m      9\u001b[0m \u001b[0mrr\u001b[0m \u001b[0;34m=\u001b[0m \u001b[0;36m0.06\u001b[0m\u001b[0;34m\u001b[0m\u001b[0m\n",
      "\u001b[0;31mNameError\u001b[0m: name 'r' is not defined"
     ]
    }
   ],
   "source": [
    "# random points at least 2r apart\n",
    "mm = 50\n",
    "xx = [np.random.uniform(size=(2))]\n",
    "rr = 0.08\n",
    "while(len(xx) < mm):\n",
    "    p = np.random.uniform(size=(2))\n",
    "    if min(np.abs(p-a).sum() for a in xx) > 2*rr:\n",
    "        xx.append(p)\n",
    "rr = 0.06 \n",
    "\n",
    "\n",
    "XX = torch.Tensor(np.array(xx))\n",
    "yy = (torch.rand(mm)+0.5).long()\n",
    "\n",
    "opt = optim.Adam(net.parameters(), lr=1e-3)\n",
    "for i in range(1000):\n",
    "    out = net(Variable(XX))\n",
    "    l = nn.CrossEntropyLoss()(out, Variable(yy))\n",
    "    opt.zero_grad()\n",
    "    (l).backward()\n",
    "    opt.step()\n",
    "print(l.data[0])"
   ]
  },
  {
   "cell_type": "code",
   "execution_count": null,
   "metadata": {},
   "outputs": [],
   "source": [
    "plt.plot(z0.data.numpy()[:,0], z0.data.numpy()[:,1], 'ro')\n",
    "\n",
    "z_hat = []\n",
    "z_bound = []\n",
    "x_p = []\n",
    "k = 10\n",
    "for i in range(-k, k+1):\n",
    "    dx = float(i) / k * epsilon\n",
    "    for j in range(-k, k+1):\n",
    "        dy = float(j) / k * epsilon\n",
    "        X[:, 0] = OX[:, 0] + dx\n",
    "        X[:, 1] = OX[:, 1] + dy\n",
    "        x_p.append(X.clone().numpy())\n",
    "        z_hat.append(net(Variable(X)).data.numpy())\n",
    "        dual = DualNetBounds(net, Variable(X), epsilon)\n",
    "        zlx, zly, zux, zuy = dual.zl[-1][0].data, dual.zl[-1][1].data, dual.zu[-1][0].data, dual.zu[-1][1].data\n",
    "        p1, p2 = dual.zl[-1].data.numpy(), dual.zu[-1].data.numpy()\n",
    "        p3, p4 = torch.cat([zlx, zuy]), torch.cat([zux, zly])\n",
    "        z_bound.extend([p1, p2, p3, p4])\n",
    "\n",
    "\n",
    "x_p, z_hat, z_bound = np.vstack(x_p), np.vstack(z_hat), np.vstack(z_bound)\n",
    "plt.scatter(z_hat[:,0], z_hat[:,1], cmap=\"coolwarm\", s=10)\n",
    "plt.scatter(z_bound[:,0], z_bound[:,1], cmap=\"coolwarm\", s=10)\n",
    "\n",
    "max_num = len(z_bound)\n",
    "x = z_bound[:,0]\n",
    "y = z_bound[:,1]\n",
    "#drawGraph(x,y)\n",
    "mat = matrix(max_num,3) \n",
    "minn = 300\n",
    "for i in range(max_num):\n",
    "    mat[i][0], mat[i][1]=x[i], y[i]\n",
    "    if y[i] < minn: \n",
    "        minn = y[i]\n",
    "        tmp = i\n",
    "d = {}  \n",
    "for i in range(max_num):    \n",
    "    if (mat[i][0],mat[i][1]) == (x[tmp],y[tmp]) : mat[i][2]=0\n",
    "    else:mat[i][2] = math.atan2((mat[i][1] - y[tmp]), (mat[i][0] - x[tmp]))\n",
    "    d[(mat[i][0],mat[i][1])] = mat[i][2]\n",
    "lst = sorted(d.items(), key=lambda e : e[1]) \n",
    "for i in range(max_num):   \n",
    "    ((x,y),eth0) = lst[i]\n",
    "    mat[i][0], mat[i][1],mat[i][2] = x, y, eth0\n",
    "stack = GrahamScan(mat)\n",
    "stack.append(stack[0])\n",
    "stack = np.asarray(stack)\n",
    "\n",
    "plt.plot(stack[:,0], stack[:,1], c='r')"
   ]
  },
  {
   "cell_type": "code",
   "execution_count": null,
   "metadata": {
    "collapsed": true
   },
   "outputs": [],
   "source": []
  },
  {
   "cell_type": "code",
   "execution_count": null,
   "metadata": {
    "collapsed": true
   },
   "outputs": [],
   "source": []
  }
 ],
 "metadata": {
  "kernelspec": {
   "display_name": "Python 2",
   "language": "python",
   "name": "python2"
  },
  "language_info": {
   "codemirror_mode": {
    "name": "ipython",
    "version": 2
   },
   "file_extension": ".py",
   "mimetype": "text/x-python",
   "name": "python",
   "nbconvert_exporter": "python",
   "pygments_lexer": "ipython2",
   "version": "2.7.14"
  }
 },
 "nbformat": 4,
 "nbformat_minor": 2
}
